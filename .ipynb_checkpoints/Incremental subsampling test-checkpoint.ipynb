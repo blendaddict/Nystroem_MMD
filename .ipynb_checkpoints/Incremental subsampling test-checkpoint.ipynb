{
 "cells": [
  {
   "cell_type": "code",
   "execution_count": 95,
   "metadata": {},
   "outputs": [],
   "source": [
    "import numpy.linalg as la\n",
    "\n",
    "def nystroem_mmd(X, Y, kernel, m):\n",
    "    n = len(X)\n",
    "    #m = int(m_magnitude(n))\n",
    "    m_idx = np.random.default_rng().integers(n, size=m)\n",
    "    X_tilde = X[m_idx]\n",
    "    Y_tilde = Y[m_idx]\n",
    "    \n",
    "    XX = kernel(X_tilde, X_tilde)\n",
    "    YY = kernel(Y_tilde, Y_tilde)\n",
    "    XY = kernel(X_tilde, Y_tilde)\n",
    "    \n",
    "    X_mn = kernel(X_tilde, X)\n",
    "    Y_mn = kernel(Y_tilde, Y)\n",
    "    \n",
    "    alpha_1 = 1 / n * la.pinv(XX) @ X_mn @ np.ones((n, 1))\n",
    "    alpha_2 = 1 / n * la.pinv(YY) @ Y_mn @ np.ones((n, 1))\n",
    "    return (alpha_1.T @ XX @ alpha_1 + alpha_2.T @ YY @ alpha_2 - 2 * alpha_1.T @ XY @ alpha_2)[0][0]"
   ]
  },
  {
   "cell_type": "code",
   "execution_count": 96,
   "metadata": {},
   "outputs": [],
   "source": [
    "def quadratic_time_mmd(X,Y,kernel):\n",
    "    assert X.ndim == Y.ndim == 2\n",
    "    K_XX = kernel(X,X)\n",
    "    K_XY = kernel(X,Y)\n",
    "    K_YY = kernel(Y,Y)\n",
    "       \n",
    "    n = len(K_XX)\n",
    "    m = len(K_YY)\n",
    "    \n",
    "    # IMPLEMENT: unbiased MMD statistic (could also use biased, doesn't matter if we use permutation tests)\n",
    "    np.fill_diagonal(K_XX, 0)\n",
    "    np.fill_diagonal(K_YY, 0)\n",
    "    mmd = np.sum(K_XX) / (n*(n-1))  + np.sum(K_YY) / (m*(m-1))  - 2*np.sum(K_XY)/(n*m)\n",
    "    return mmd"
   ]
  },
  {
   "cell_type": "code",
   "execution_count": 118,
   "metadata": {},
   "outputs": [
    {
     "name": "stdout",
     "output_type": "stream",
     "text": [
      "0.14954817147031796\n",
      "0.16813614234003427\n"
     ]
    }
   ],
   "source": [
    "import numpy as np\n",
    "from sklearn.metrics.pairwise import rbf_kernel\n",
    "mu1, sigma1 = 0, 1\n",
    "sample1 = np.random.normal(mu1, sigma1, 1000)\n",
    "mu2, sigma2 = 1, 2\n",
    "sample2 = np.random.normal(mu2, sigma2, 1000)\n",
    "\n",
    "\n",
    "sample1 = np.asarray([sample1]).reshape(-1, 1)\n",
    "sample2 = np.asarray([sample2]).reshape(-1, 1)\n",
    "\n",
    "print(quadratic_time_mmd(sample1, sample2, rbf_kernel))\n",
    "print(nystroem_mmd(sample1, sample2, rbf_kernel, 10))"
   ]
  }
 ],
 "metadata": {
  "kernelspec": {
   "display_name": "Nystroem_MMD",
   "language": "python",
   "name": "nystroem_mmd"
  },
  "language_info": {
   "codemirror_mode": {
    "name": "ipython",
    "version": 3
   },
   "file_extension": ".py",
   "mimetype": "text/x-python",
   "name": "python",
   "nbconvert_exporter": "python",
   "pygments_lexer": "ipython3",
   "version": "3.10.10"
  }
 },
 "nbformat": 4,
 "nbformat_minor": 4
}
