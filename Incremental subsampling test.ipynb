{
 "cells": [
  {
   "cell_type": "code",
   "execution_count": 1,
   "metadata": {},
   "outputs": [],
   "source": [
    "import numpy.linalg as la\n",
    "\n",
    "def nystroem_mmd(X, Y, kernel, m):\n",
    "    n = len(X)\n",
    "    #m = int(m_magnitude(n))\n",
    "    m_idx = np.random.default_rng().integers(n, size=m)\n",
    "    X_tilde = X[m_idx]\n",
    "    Y_tilde = Y[m_idx]\n",
    "    \n",
    "    XX = kernel(X_tilde, X_tilde)\n",
    "    YY = kernel(Y_tilde, Y_tilde)\n",
    "    XY = kernel(X_tilde, Y_tilde)\n",
    "    \n",
    "    X_mn = kernel(X_tilde, X)\n",
    "    Y_mn = kernel(Y_tilde, Y)\n",
    "    \n",
    "    alpha_1 = 1 / n * la.pinv(XX) @ X_mn @ np.ones((n, 1))\n",
    "    alpha_2 = 1 / n * la.pinv(YY) @ Y_mn @ np.ones((n, 1))\n",
    "    return (alpha_1.T @ XX @ alpha_1 + alpha_2.T @ YY @ alpha_2 - 2 * alpha_1.T @ XY @ alpha_2)[0][0]"
   ]
  },
  {
   "cell_type": "code",
   "execution_count": 11,
   "metadata": {},
   "outputs": [],
   "source": [
    "import numpy as np\n",
    "from sklearn import metrics\n",
    "\n",
    "\n",
    "class MMD:\n",
    "    def __init__(self, biased, gamma=1):\n",
    "        \"\"\" \"\"\"\n",
    "        self.biased = biased\n",
    "        self.gamma = gamma\n",
    "\n",
    "    def mmd(self, X, Y):\n",
    "        \"\"\"Maximum Mean Discrepancy of X and Y.\"\"\"\n",
    "        if self.biased:\n",
    "            XX = metrics.pairwise.rbf_kernel(X, X, self.gamma)\n",
    "            YY = metrics.pairwise.rbf_kernel(Y, Y, self.gamma)\n",
    "            XY = metrics.pairwise.rbf_kernel(X, Y, self.gamma)\n",
    "            return XX.mean() + YY.mean() - 2 * XY.mean()\n",
    "        else:\n",
    "            m = len(X)\n",
    "            n = len(Y)\n",
    "            XX = metrics.pairwise.rbf_kernel(X, X, self.gamma) - np.identity(m)\n",
    "            YY = metrics.pairwise.rbf_kernel(Y, Y, self.gamma) - np.identity(n)\n",
    "            XY = metrics.pairwise.rbf_kernel(X, Y, self.gamma)\n",
    "            return (\n",
    "                1 / (m * (m - 1)) * np.sum(XX)\n",
    "                + 1 / (n * (n - 1)) * np.sum(YY)\n",
    "                - 2 * XY.mean()\n",
    "            )\n",
    "\n",
    "    def threshold(self, m, n, alpha=0.1):\n",
    "        K = 1\n",
    "        if self.biased:\n",
    "            thresh = (\n",
    "                np.sqrt(K / m + K / n)\n",
    "                + np.sqrt((2 * K * (m + n) * np.log(1 / alpha)) / (m * n))\n",
    "            ) ** 2\n",
    "\n",
    "            return thresh  # square to be consistent with unbiased threshold\n",
    "        else:\n",
    "            raise NotImplementedError\n",
    "\n",
    "    def threshold_old(self, m, n, alpha=0.1):\n",
    "        \"\"\"Using the original corollary from the paper (corollary 9)\"\"\"\n",
    "        K = 1\n",
    "        m = max(m, n)\n",
    "        if self.biased:\n",
    "            return (\n",
    "                np.sqrt(2 * K / m) * (1 + np.sqrt(2 * np.log(1 / alpha)))\n",
    "            ) ** 2  # square to be consistent with unbiased threshold\n",
    "        else:\n",
    "            return (4 * K / np.sqrt(m)) * np.sqrt(np.log(1 / alpha))\n",
    "\n",
    "    def accept_H0(self, X, Y, alpha=0.1):\n",
    "        \"\"\"Test whether the distributions of X and Y are the same with significance alpha. True if both distributions are the same.\"\"\"\n",
    "        return self.mmd(X, Y) < self.threshold(len(X), len(Y), alpha=alpha)\n",
    "\n",
    "    @staticmethod\n",
    "    def estimate_gamma(X, n_samples=200, seed=1234):\n",
    "        \"\"\"Estimate the gamma parameter based on the median heuristic for sigma**2.\"\"\"\n",
    "        rng = np.random.default_rng(seed)\n",
    "        distances = []\n",
    "        for _ in range(n_samples):\n",
    "            distances += [np.linalg.norm(rng.choice(X, size=2)) ** 2]\n",
    "            sigma = np.median(distances)\n",
    "        return 1 / np.sqrt(2 * sigma) if sigma > 0 else 1"
   ]
  },
  {
   "cell_type": "code",
   "execution_count": 2,
   "metadata": {},
   "outputs": [],
   "source": [
    "def quadratic_time_mmd(X,Y,kernel):\n",
    "    assert X.ndim == Y.ndim == 2\n",
    "    K_XX = kernel(X,X)\n",
    "    K_XY = kernel(X,Y)\n",
    "    K_YY = kernel(Y,Y)\n",
    "       \n",
    "    n = len(K_XX)\n",
    "    m = len(K_YY)\n",
    "    \n",
    "    # IMPLEMENT: unbiased MMD statistic (could also use biased, doesn't matter if we use permutation tests)\n",
    "    np.fill_diagonal(K_XX, 0)\n",
    "    np.fill_diagonal(K_YY, 0)\n",
    "    mmd = np.sum(K_XX) / (n*(n-1))  + np.sum(K_YY) / (m*(m-1))  - 2*np.sum(K_XY)/(n*m)\n",
    "    return mmd"
   ]
  },
  {
   "cell_type": "code",
   "execution_count": 14,
   "metadata": {},
   "outputs": [
    {
     "name": "stdout",
     "output_type": "stream",
     "text": [
      "0.1465852478073476\n",
      "0.11081349943030472\n",
      "0.1497195294129976\n"
     ]
    }
   ],
   "source": [
    "#Incremental subsampling for quadratic MMD\n",
    "import numpy as np\n",
    "from sklearn.metrics.pairwise import rbf_kernel\n",
    "from scipy.interpolate import interp1d\n",
    "import math\n",
    "np.random.seed(1)\n",
    "calc = MMD(True)\n",
    "sample_size = 1000\n",
    "subsample_size = 2 * round(math.sqrt(sample_size))\n",
    "subsubsample_size = 2 * round(math.sqrt(subsample_size))\n",
    "mu1, sigma1 = 0, 1\n",
    "sample1 = np.random.normal(mu1, sigma1, 1000)\n",
    "mu2, sigma2 = 1, 2\n",
    "sample2 = np.random.normal(mu2, sigma2, 1000)\n",
    "\n",
    "\n",
    "sample1 = np.asarray([sample1]).reshape(-1, 1)\n",
    "sample2 = np.asarray([sample2]).reshape(-1, 1)\n",
    "\n",
    "print(quadratic_time_mmd(sample1, sample2, rbf_kernel))\n",
    "#print(nystroem_mmd(sample1, sample2, rbf_kernel, 10))\n",
    "\n",
    "\n",
    "subsample1 = np.random.choice(sample1.flatten(), size=subsample_size, replace=True)\n",
    "subsample2 = np.random.choice(sample2.flatten(), size=subsample_size, replace=True)\n",
    "subsample1 = np.asarray([subsample1]).reshape(-1, 1)\n",
    "subsample2 = np.asarray([subsample2]).reshape(-1, 1)\n",
    "\n",
    "print(calc.mmd(subsample1, subsample2))\n",
    "#print(nystroem_mmd(sample1, sample2, rbf_kernel, 10))\n",
    "\n",
    "subsubsample1 = np.random.choice(subsample1.flatten(), size=subsubsample_size, replace=True)\n",
    "subsubsample2 = np.random.choice(subsample2.flatten(), size=subsubsample_size, replace=True)\n",
    "subsubsample1 = np.asarray([subsubsample1]).reshape(-1, 1)\n",
    "subsubsample2 = np.asarray([subsubsample2]).reshape(-1, 1)\n",
    "print(calc.mmd(subsubsample1, subsubsample2))\n",
    "#print(nystroem_mmd(sample1, sample2, rbf_kernel, 10))"
   ]
  },
  {
   "cell_type": "code",
   "execution_count": 48,
   "metadata": {},
   "outputs": [],
   "source": [
    "\n",
    "sample_size = 1000\n",
    "subsample_size = 2 * round(math.sqrt(sample_size))\n",
    "subsubsample_size = 2 * round(math.sqrt(subsample_size))\n",
    "mu1, sigma1 = 0, 1\n",
    "sample1 = np.random.normal(mu1, sigma1, 1000)\n",
    "mu2, sigma2 = 1, 2\n",
    "sample2 = np.random.normal(mu2, sigma2, 1000)\n",
    "\n",
    "sample1 = np.asarray([sample1]).reshape(-1, 1)\n",
    "sample2 = np.asarray([sample2]).reshape(-1, 1)\n",
    "\n",
    "n_repeats = 10  # Number of times to repeat the calculation\n",
    "nystroem_scores = {\"n\": [], \"√2n\": [], \"√(2*√2n)\": []}\n",
    "\n",
    "for _ in range(n_repeats):\n",
    "    nystroem_scores[\"n\"].append(nystroem_mmd(sample1, sample2, rbf_kernel, sample_size))\n",
    "    nystroem_scores[\"√2n\"].append(nystroem_mmd(sample1, sample2, rbf_kernel, subsample_size))\n",
    "    nystroem_scores[\"√(2*√2n)\"].append(nystroem_mmd(sample1, sample2, rbf_kernel, subsubsample_size))\n",
    "\n",
    "names = list(nystroem_scores.keys())\n",
    "scores = np.array(list(nystroem_scores.values()))\n",
    "\n",
    "mean_scores = np.mean(scores, axis=1)\n",
    "std_scores = np.std(scores, axis=1)\n",
    "\n"
   ]
  },
  {
   "cell_type": "code",
   "execution_count": 49,
   "metadata": {},
   "outputs": [
    {
     "data": {
      "image/png": "[encoded data removed]",
      "text/plain": [
       "<Figure size 1000x600 with 1 Axes>"
      ]
     },
     "metadata": {},
     "output_type": "display_data"
    }
   ],
   "source": [
    "import matplotlib.pyplot as plt\n",
    "numeric_index = np.arange(len(mean_scores))\n",
    "\n",
    "mean_scores_np = np.array(mean_scores)\n",
    "std_scores_np = np.array(std_scores)\n",
    "\n",
    "\n",
    "f1 = interp1d(numeric_index, mean_scores_np - std_scores_np, kind='linear')\n",
    "f2 = interp1d(numeric_index, mean_scores_np + std_scores_np, kind='linear')\n",
    "\n",
    "plt.figure(figsize=(10, 6))\n",
    "\n",
    "plt.plot(names, mean_scores,  label='Mean')\n",
    "\n",
    "xnew = np.linspace(numeric_index.min(), numeric_index.max(), num=1000, endpoint=True)\n",
    "\n",
    "plt.fill_between(xnew, f1(xnew), f2(xnew), alpha=0.2,label='Standard deviation', color=\"red\")\n",
    "\n",
    "plt.title('Nyström MMD scores')\n",
    "plt.xlabel('Sample size')\n",
    "plt.ylabel('Score')\n",
    "plt.legend()\n",
    "plt.grid(True)\n",
    "\n",
    "# Adjust x-ticks to match names\n",
    "plt.xticks(ticks=numeric_index, labels=names)\n",
    "\n",
    "plt.ylim(0.1, 0.4)\n",
    "\n",
    "plt.savefig('nystroem_scores.svg', format='svg')\n",
    "plt.show()"
   ]
  },
  {
   "cell_type": "code",
   "execution_count": 46,
   "metadata": {},
   "outputs": [
    {
     "data": {
      "image/png": "[encoded data removed]",
      "text/plain": [
       "<Figure size 1000x600 with 1 Axes>"
      ]
     },
     "metadata": {},
     "output_type": "display_data"
    }
   ],
   "source": [
    "import numpy as np\n",
    "import math\n",
    "import matplotlib.pyplot as plt\n",
    "from scipy.interpolate import interp1d\n",
    "\n",
    "np.random.seed()\n",
    "calc = MMD(True)\n",
    "sample_size = 1000\n",
    "subsample_size = 2 * round(math.sqrt(sample_size))\n",
    "subsubsample_size = 2 * round(math.sqrt(subsample_size))\n",
    "mu1, sigma1 = 0, 1\n",
    "sample1 = np.random.normal(mu1, sigma1, 1000)\n",
    "mu2, sigma2 = 1, 2\n",
    "sample2 = np.random.normal(mu2, sigma2, 1000)\n",
    "\n",
    "sample1 = np.asarray([sample1]).reshape(-1, 1)\n",
    "sample2 = np.asarray([sample2]).reshape(-1, 1)\n",
    "\n",
    "n_repeats = 50  # Number of times to repeat the calculation\n",
    "mmd_scores = {\"n\": [], \"√2n\": [], \"√(2*√2n)\": []}\n",
    "\n",
    "for _ in range(n_repeats):\n",
    "    subsample1 = np.random.choice(sample1.flatten(), size=subsample_size, replace=True)\n",
    "    subsample2 = np.random.choice(sample2.flatten(), size=subsample_size, replace=True)\n",
    "    subsample1 = np.asarray([subsample1]).reshape(-1, 1)\n",
    "    subsample2 = np.asarray([subsample2]).reshape(-1, 1)\n",
    "\n",
    "    subsubsample1 = np.random.choice(subsample1.flatten(), size=subsubsample_size, replace=True)\n",
    "    subsubsample2 = np.random.choice(subsample2.flatten(), size=subsubsample_size, replace=True)\n",
    "    subsubsample1 = np.asarray([subsubsample1]).reshape(-1, 1)\n",
    "    subsubsample2 = np.asarray([subsubsample2]).reshape(-1, 1)\n",
    "\n",
    "    mmd_scores[\"n\"].append(calc.mmd(sample1, sample2))\n",
    "    mmd_scores[\"√2n\"].append(calc.mmd(subsample1, subsample2))\n",
    "    mmd_scores[\"√(2*√2n)\"].append(calc.mmd(subsubsample1, subsubsample2))\n",
    "\n",
    "names = list(mmd_scores.keys())\n",
    "scores = np.array(list(mmd_scores.values()))\n",
    "\n",
    "mean_scores = np.mean(scores, axis=1)\n",
    "std_scores = np.std(scores, axis=1)\n",
    "\n",
    "numeric_index = np.arange(len(mean_scores))\n",
    "\n",
    "mean_scores_np = np.array(mean_scores)\n",
    "std_scores_np = np.array(std_scores)\n",
    "\n",
    "f1 = interp1d(numeric_index, mean_scores_np - std_scores_np, kind='linear')\n",
    "f2 = interp1d(numeric_index, mean_scores_np + std_scores_np, kind='linear')\n",
    "\n",
    "plt.figure(figsize=(10, 6))\n",
    "plt.plot(names, mean_scores, label='Mean')\n",
    "xnew = np.linspace(numeric_index.min(), numeric_index.max(), num=1000, endpoint=True)\n",
    "plt.fill_between(xnew, f1(xnew), f2(xnew), alpha=0.2, label='Standard deviation', color=\"red\")\n",
    "\n",
    "plt.title('MMD scores')\n",
    "plt.xlabel('Sample size')\n",
    "plt.ylabel('Score')\n",
    "plt.legend()\n",
    "plt.grid(True)\n",
    "\n",
    "plt.ylim(0.1, 0.4) \n",
    "\n",
    "# Adjust x-ticks to match names\n",
    "plt.xticks(ticks=numeric_index, labels=names)\n",
    "\n",
    "plt.savefig('mmd_scores.svg', format='svg')  # Save the plot as SVG file\n",
    "\n",
    "plt.show()\n"
   ]
  },
  {
   "cell_type": "code",
   "execution_count": 7,
   "metadata": {},
   "outputs": [
    {
     "data": {
      "text/plain": [
       "array([0.13612722, 0.13065805, 0.23721556])"
      ]
     },
     "execution_count": 7,
     "metadata": {},
     "output_type": "execute_result"
    }
   ],
   "source": [
    "mean_scores"
   ]
  },
  {
   "cell_type": "code",
   "execution_count": 8,
   "metadata": {},
   "outputs": [
    {
     "data": {
      "text/plain": [
       "array([2.77555756e-17, 4.92830314e-02, 1.70189717e-01])"
      ]
     },
     "execution_count": 8,
     "metadata": {},
     "output_type": "execute_result"
    }
   ],
   "source": [
    "std_scores"
   ]
  },
  {
   "cell_type": "code",
   "execution_count": 9,
   "metadata": {},
   "outputs": [],
   "source": [
    "#don't really know how to do this\n",
    "def nystroem_mmd_updatable(X, Y, kernel, m):\n",
    "    n = len(X)\n",
    "    #m = int(m_magnitude(n))\n",
    "    m_idx = np.random.default_rng().integers(n, size=m)\n",
    "    X_tilde = X[m_idx]\n",
    "    Y_tilde = Y[m_idx]\n",
    "    \n",
    "    XX = kernel(X_tilde, X_tilde)\n",
    "    YY = kernel(Y_tilde, Y_tilde)\n",
    "    XY = kernel(X_tilde, Y_tilde)\n",
    "    \n",
    "    X_mn = kernel(X_tilde, X)\n",
    "    Y_mn = kernel(Y_tilde, Y)\n",
    "    \n",
    "    alpha_1 = 1 / n * la.pinv(XX) @ X_mn @ np.ones((n, 1))\n",
    "    alpha_2 = 1 / n * la.pinv(YY) @ Y_mn @ np.ones((n, 1))\n",
    "    return (alpha_1.T @ XX @ alpha_1 + alpha_2.T @ YY @ alpha_2 - 2 * alpha_1.T @ XY @ alpha_2)[0][0], X_tilde, Y_tilde, alpha_1, alpha_2"
   ]
  },
  {
   "cell_type": "code",
   "execution_count": 10,
   "metadata": {},
   "outputs": [],
   "source": [
    "from scipy.optimize import minimize\n",
    "import numpy as np\n",
    "\n",
    "def objective(gamma, alpha, beta, B1_sample, B2_sample, m, k):\n",
    "    term1 = np.dot(alpha, func(B1_sample)) + np.dot(beta, func(B2_sample))\n",
    "    term2 = np.dot(gamma, func(k[:m]))\n",
    "    return np.abs(term1 - term2)**2\n",
    "\n",
    "#really not sure how to do this yet\n",
    "def update_weights(B1_sample, alpha, B2_sample, beta, m):\n",
    "    combined_samples = np.concatenate((B1_sample, B2_sample))\n",
    "    k = np.random.choice(combined_samples, m, replace=False)\n",
    "    gamma_initial = np.random.rand(m)\n",
    "    cons = ({'type': 'eq', 'fun': lambda x:  np.sum(x)-1})\n",
    "    bnds = [(0,1) for _ in range(m)]\n",
    "    \n",
    "    result = minimize(objective, gamma_initial, args=(alpha, beta, B1_sample, B2_sample, m, k),\n",
    "                      method='SLSQP', bounds=bnds, constraints=cons)\n",
    "    return result.x\n"
   ]
  },
  {
   "cell_type": "code",
   "execution_count": null,
   "metadata": {},
   "outputs": [],
   "source": []
  }
 ],
 "metadata": {
  "kernelspec": {
   "display_name": "Python 3 (ipykernel)",
   "language": "python",
   "name": "python3"
  },
  "language_info": {
   "codemirror_mode": {
    "name": "ipython",
    "version": 3
   },
   "file_extension": ".py",
   "mimetype": "text/x-python",
   "name": "python",
   "nbconvert_exporter": "python",
   "pygments_lexer": "ipython3",
   "version": "3.10.11"
  }
 },
 "nbformat": 4,
 "nbformat_minor": 4
}
